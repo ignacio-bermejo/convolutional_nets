{
 "metadata": {
  "language_info": {
   "codemirror_mode": {
    "name": "ipython",
    "version": 3
   },
   "file_extension": ".py",
   "mimetype": "text/x-python",
   "name": "python",
   "nbconvert_exporter": "python",
   "pygments_lexer": "ipython3",
   "version": "3.8.5"
  },
  "orig_nbformat": 4,
  "kernelspec": {
   "name": "python3",
   "display_name": "Python 3.8.5 64-bit ('base': conda)"
  },
  "interpreter": {
   "hash": "642ed197f51b4a6f70d3007f365abeb4e11cf6d289847988e1cf6d37c781e715"
  }
 },
 "nbformat": 4,
 "nbformat_minor": 2,
 "cells": [
  {
   "cell_type": "code",
   "execution_count": 1,
   "metadata": {},
   "outputs": [],
   "source": [
    "#EJERCICIO 5\n",
    "#Entrena un modelo en Keras que use 3 tipos de regularización y use capas\n",
    "#convolucionales pero no uses capas densas ni recurrentes (pista, piensa bien las capas de\n",
    "#pooling). El modelo ha de usarse para resolver el problema de clasificación con los datos\n",
    "#CIFAR100 que están en Keras. Razona sobre la evolución del error en las curvas de\n",
    "#entrenamiento.\n",
    "#Compara los tiempos de entrenamiento y predicción con y sin GPU (usando tu GPU o la de\n",
    "#Colab).\n",
    "\n",
    "#Ejemplo de CNN 2D en la base de datos cifar100 ESTA HECHO EN LA CARPETA CONVOLUCIONALES, SCRIPS CNN 2D en la base de datos cifar100"
   ]
  },
  {
   "cell_type": "code",
   "execution_count": 21,
   "metadata": {},
   "outputs": [
    {
     "output_type": "stream",
     "name": "stdout",
     "text": [
      "Requirement already satisfied: Padding in c:\\users\\ignac\\anaconda3\\lib\\site-packages (0.5)\n"
     ]
    }
   ],
   "source": [
    "from tensorflow.keras.datasets import cifar10\n",
    "from tensorflow.keras.models import Sequential\n",
    "from tensorflow.keras.layers import Dense, Activation,LSTM, GRU, Conv2D,MaxPooling2D, Flatten, Dropout,Convolution1D, Dense, MaxPooling1D\n",
    "from tensorflow.keras.losses import sparse_categorical_crossentropy\n",
    "from tensorflow.keras.optimizers import Adam\n",
    "from tensorflow.keras.layers import BatchNormalization\n",
    "!pip install Padding\n",
    "import matplotlib.pyplot as plt\n",
    "import tensorflow as tf"
   ]
  },
  {
   "cell_type": "code",
   "execution_count": 5,
   "metadata": {},
   "outputs": [],
   "source": [
    "#Descargamos los datos cifar100 y los partimos en train y test\n",
    "(X_train, y_train), (X_test, y_test) = tf.keras.datasets.cifar100.load_data()"
   ]
  },
  {
   "cell_type": "code",
   "execution_count": 6,
   "metadata": {},
   "outputs": [],
   "source": [
    "#Determino la forma de los datos\n",
    "img_width, img_pesos, img_num_canales = 32, 32, 3\n",
    "input_shape = (img_width, img_pesos, img_num_canales)"
   ]
  },
  {
   "cell_type": "code",
   "execution_count": 7,
   "metadata": {},
   "outputs": [
    {
     "output_type": "stream",
     "name": "stdout",
     "text": [
      "(50000, 1)\n"
     ]
    }
   ],
   "source": [
    "#Tamaño de los datos (#datos,#lado,#alto,#canales)\n",
    "print(y_train.shape)"
   ]
  },
  {
   "cell_type": "code",
   "execution_count": 8,
   "metadata": {},
   "outputs": [
    {
     "output_type": "execute_result",
     "data": {
      "text/plain": [
       "<matplotlib.image.AxesImage at 0x213b8850760>"
      ]
     },
     "metadata": {},
     "execution_count": 8
    },
    {
     "output_type": "display_data",
     "data": {
      "text/plain": "<Figure size 432x288 with 1 Axes>",
      "image/svg+xml": "<?xml version=\"1.0\" encoding=\"utf-8\" standalone=\"no\"?>\r\n<!DOCTYPE svg PUBLIC \"-//W3C//DTD SVG 1.1//EN\"\r\n  \"http://www.w3.org/Graphics/SVG/1.1/DTD/svg11.dtd\">\r\n<!-- Created with matplotlib (https://matplotlib.org/) -->\r\n<svg height=\"248.919844pt\" version=\"1.1\" viewBox=\"0 0 251.565 248.919844\" width=\"251.565pt\" xmlns=\"http://www.w3.org/2000/svg\" xmlns:xlink=\"http://www.w3.org/1999/xlink\">\r\n <metadata>\r\n  <rdf:RDF xmlns:cc=\"http://creativecommons.org/ns#\" xmlns:dc=\"http://purl.org/dc/elements/1.1/\" xmlns:rdf=\"http://www.w3.org/1999/02/22-rdf-syntax-ns#\">\r\n   <cc:Work>\r\n    <dc:type rdf:resource=\"http://purl.org/dc/dcmitype/StillImage\"/>\r\n    <dc:date>2021-07-11T20:13:05.418439</dc:date>\r\n    <dc:format>image/svg+xml</dc:format>\r\n    <dc:creator>\r\n     <cc:Agent>\r\n      <dc:title>Matplotlib v3.3.2, https://matplotlib.org/</dc:title>\r\n     </cc:Agent>\r\n    </dc:creator>\r\n   </cc:Work>\r\n  </rdf:RDF>\r\n </metadata>\r\n <defs>\r\n  <style type=\"text/css\">*{stroke-linecap:butt;stroke-linejoin:round;}</style>\r\n </defs>\r\n <g id=\"figure_1\">\r\n  <g id=\"patch_1\">\r\n   <path d=\"M 0 248.919844 \r\nL 251.565 248.919844 \r\nL 251.565 0 \r\nL 0 0 \r\nz\r\n\" style=\"fill:none;\"/>\r\n  </g>\r\n  <g id=\"axes_1\">\r\n   <g id=\"patch_2\">\r\n    <path d=\"M 26.925 225.041719 \r\nL 244.365 225.041719 \r\nL 244.365 7.601719 \r\nL 26.925 7.601719 \r\nz\r\n\" style=\"fill:#ffffff;\"/>\r\n   </g>\r\n   <g clip-path=\"url(#pd44dad30b8)\">\r\n    <image height=\"218\" id=\"image461e4479a3\" transform=\"scale(1 -1)translate(0 -218)\" width=\"218\" x=\"26.925\" xlink:href=\"data:image/png;base64,\r\niVBORw0KGgoAAAANSUhEUgAAANoAAADaCAYAAADAHVzbAAAT9klEQVR4nO2dSY8cV3aFbww5j1XJKtZEsoolcZREUlJLsqaWhIZ6MGwDtgEvbBhuGA1v/Av8M7zyqg3Ya9urRrsH2bIldWsgJUoiRYlkUcWa58ysnDMjI7zwqoF7HgxBfeUGzrd8By8zIjJOBnDejfu8P/u7i4kAPImRJKXihDreqLfgnFYLa5ceW4Ta4lINahtbq+p4qaQfn4hIMoKnLFPVWahlUkWodcf43I7bx+p4v9+FcxqNJtQ6x/h3mZisQi2XC9Rx3/fwdw0PoDYc70LNb05CrXx8Rh3PDHw4ZzNZh1pmDkpy77/xMf76F/jcKvNpdfy7P7wG5yxdOAE1fGaEkK8NGo0QA2g0Qgyg0QgxgEYjxAAajRADwuVlHGfHcR9q6VRJn+PhWDpb1CNTEZF6sw615GEPaqVqSj8O6cA5fioHte5Qj+L/9zNxrL66sQ+1e/c/V8fn5stwTpgeQK0yjY8jnx9DrVCoqOO9Hv6dKwX8XzxOClArlqbwvIcZXRjCKZId4+/yhnhppVLCx18o4OvYPtCvf38fX99gIQs1PtEIMYBGI8QAGo0QA2g0Qgyg0QgxgEYjxIBwbkGP6UVEhmMcq8djPT7PlvDnpf1pqNWPcCX7cWcTavOz59TxviOy9r0QanE8gloUN7A22IPaheUFdbw6iZcZKhP4P7BSxcsk+SKIzkUkm8+r4/UjfK26Q5y5J10c4fe/1JddREQGsX7ecQ7H4xMBPq9B7xBqk44lpVIR/2bS1GP81Q/vwCn7K/ehxicaIQbQaIQYQKMRYgCNRogBNBohBoSpHC6iLWZx0hOP9VQp8HB/j6iL+0jMnnQU+g5w/49UqB9HbQb3bwgCvXeGiEgcOwpN27h49dq181Ar5PRi3iCFe3XEsaMoWvC8ShqnvvFQP7dKiOeUsjiFdRUV74/wf3gMqodHKVywmxLcryUe4GPMO67x2dOnoLaxsa0fR4zPK4xxwsknGiEG0GiEGECjEWIAjUaIATQaIQbQaIQYEBbyOHLPZHDkXsjp88ZRBOfsdnDhcLN1BLVKFcfIqAY4iXCsWyjgqLharULt+BgvhTSbDajl8/p19H38PxeNHUW0MS72DvL6UoKIyLCpzyvk8XcV87jQd30Nx+pJB0fdhYzej2Po6PPiBfhe7Ht4WWDUxgXTC7PzUIuG+jFmM7ggvZzHy1B8ohFiAI1GiAE0GiEG0GiEGECjEWIAjUaIAWE6xNH5aIAr2Y+jhjoej3GPiXGCY9hOF7fUnpyagVq1eFId77dwVJzgVFr8GFf259N4WeDezhqeV9SvyYMVPCcT4ph+aVbvQSIisrGC3zCI2/pOp8G4DecsX34Eav1D/F29Fu7jkc3ovUvEsfNonOAljV6nAbVBDx/jqI+1ACwZ+AleZsiFuMU7n2iEGECjEWIAjUaIATQaIQbQaIQYQKMRYkC4sYvbGGezuAI7k9G1yRKOpSsFvJQggmPTfM6xs2RObwaUVHH78SjCFd2dDt6xtNnC1fsPHm5ALfT1JYNOG7eknsg62pb38f9jY60BtbnpOXXcBy26RURWb+CYvr6Htd36LtTKYOkiV8BNgppd/F3bWw+hNuzjnVNbLbys0W3r90Hg41bn8Ri/ucInGiEG0GiEGECjEWIAjUaIATQaIQbQaIQYEFaLuOK4UsVxawZUspezOIqfcOwGGkXY877gZYZmS6/qrrccO4i28JsCmZyjglxwBfnCI7jBTXNXX05YPoN7vy9UrkGt/wA3zHnQwlH3zqF+3tUJ3FRmkMLRf9LAr0FsHuDK+JSvzxsX8PLJQQc3bzpu4HmS6G8siIh0e/gNDxTVDwb4vOr1HajxiUaIATQaIQbQaIQYQKMRYgCNRogBNBohBnhvf/m3MP/0QdW5iEguq0fCQYgb2IwdUWu/j6PzOMZNfbYP9C1Q17dx4xtx9GqfmZ2CWqWCY/U4wpXgxUDv8b5Uew7O+ewDHFn/+O//CWr1gwOoZbP4+BFtwb/Zs089A7UTVbws0H7rHXW8lcL3wBHYjldEZNDD89od/Lu0HdX72VBfUoodz6Ywi8+ZTzRCDKDRCDGARiPEABqNEANoNEIMCOMx7k0xHuHUsd/WC0N39jfhnAcPV6G2t497bpy/iFtgz8zoPUOmKyfgnGoVF1KXHIXPYQoXDrePca+RYlbv1VHL4tRufhInYo9dWoHa++//GmrjGLd4R3Qcydz6Ee6RsXzqNNSOG2+o4400Tkx7Ib4XXX1BRn2cVqYcqTp6AsVjfA0DHNDyiUaIBTQaIQbQaIQYQKMRYgCNRogBNBohBoTdIY4rfcHtj99794Y6fusObjEeprGvF0474vgaLlSulPU4fqaqF/KKiCRj3Bdk3MEFx14KF+WWHQW7vY4eMe/v4t4lG+t6sbSIyMwMbndeq+LrGI31c4sifM77+zjePzrCrdWPNhtQS8AtN0KCiAx7+Bh7HVxU7Pv4nkscyx1hqC97xY5da/M5FhUT8o1CoxFiAI1GiAE0GiEG0GiEGECjEWJAWCniOLjdxrFpuaJ79MIF3HPjwqXHoFZytCYXwXH82pq+E+RoiKvpWw1c7T3o4Mh6aWEGarVJ3Fa7DXboDAJchf/RzdtQ+/D6R1CbruHrnwe7sfqgP4aISGuEq9+rZfybBUd1qKEy96iPq+kHjp4yoYePPxXgJaoG2NVTRCQFlqJSjpbxgl+E4RONEAtoNEIMoNEIMYBGI8QAGo0QA2g0QgwIr9/8AoqjCEe703N6jFyt4ar5+3fwro1hiHdfTDuq5pstfQfGUYQ7pVTyOAIv53Fl/KCL89vtAd79Mh7r/2cTYQPOibp4Z8nAsQvnMMHH2G/ryxr9Ib72XUc79vbGKtSWHO2xM54e4/sJjukHAxzFp1M4ws/lsJZK4e9DbzrkQFW/iEini9904BONEANoNEIMoNEIMYBGI8QAGo0QA2g0QgwIV+7r1e8i7qYtUaTHpo8uPQrnlAq4d73v4dg0k8ZRcT6t97VvNXFf+IMNvJtmekqvcBcRGce4L//mJv7M7EB/I6CWwRH+k/MXoTY3ex5q73xwHWpRrC/XZDP4+taqk1AbOprieHW8lFMa6fdOzsvDOYljt9jBAL+NkU7jCB814BERGY703yyO8bPJ9/F38YlGiAE0GiEG0GiEGECjEWIAjUaIAeHL3/o+FHttnPSMQC+Jm7/agXMOD3GKubS0CLXZyTNQE5BGFQOcRCVtvLPkM1eeg9ryIj6OxgFOHcP9LXX86N134ZxmQ58jIrJwaglqf/T6a1A7Bj1gHOGy3P7iU6htfIHbv1f6uMg6D9qu5ws4tQscu3MOQaorIhJFOH0OA8eOtpHeLnzsuFiFkiNVhwoh5GuDRiPEABqNEANoNEIMoNEIMYBGI8SAcGsVF5TW6zgG90SPb3/2kw/gnIMDHLn/6EfnoOYqDH3v3Q/V8bGjZ8ip2dNQ29xdg9rDzc+gdnpKL24WEbk2s6CO50/p4yIi9Z+/AbW33vkYahsB/u+s9/QliM4R7seRGeGY/vL0LNQKrl1VQWGu5+PfLE4cO3f6uDjYC3GEH6bwvHSsFz6HAe5fE4bc8ZOQbxQajRADaDRCDKDRCDGARiPEABqNEAPCpcXHobi//ybU6k09+k8c3u33cOXzL//jZ1BrD3D0v72nR9P7u7g9c7eD4+z6FK7A3ti6C7XHFp+E2hPf1mP8whx+G6BWxq3Jz+7iFt53PsG7gXZivcq9msW9Ol4//zTUhhGO/lcTvDQUzOjXuJ/HlfZeF/8uoY+XEnxHu/AgjeP9fFDU56Twcbi2/OQTjRADaDRCDKDRCDGARiPEABqNEANoNEIMCJ+9hltP37iOK8jHYz2KXTqLG8f4MY7cSwVc+RwEuHq/VNKj6WiE/0M6XRzvb23jNtfzC3in0KkTVaiN+qApThpXlp+8ehlql3f3oDZ9Cc/zq3q780TwcWzs4mv1q0PcQCicxa3VK1n93hmP8XJBKoOr5od4mniOyv7Q8ZlepM/zQrxc4Duifz7RCDGARiPEABqNEANoNEIMoNEIMYBGI8SAcNTBDXOaRziOn59fVsefehpXnX/43kOouRqzLMzhJjCN+ifq+AlH3B44qqxvf4J3zPQ8XCV+5QyOfdNZfXnC9aZDYXEeavlFfD0qB3iZZG+ovz3x6cqXcM71/W2ofR7je2exjq/VxAkQnSc4p098RxU+lpzzxLFDZwLuR9cygwSs3ifkG4VGI8QAGo0QA2g0Qgyg0QgxICwVcfHnay9/B2o3butpXyaLU5kzZ2egNurifiLPPPEC1GrlSXV85cEdOMeVpkqEC0PffOMm1K5dwL1Xwryebt34+Dac02jiHUSXX8S7kva2NqH2i5/+XB3/6V39txQRqdRqUBt1cEr44C5OMqeLp9TxbMVRAOxodZ642nQ7+onEjp4n6XxJHQ9CnFSO9U1CRYRPNEJMoNEIMYBGI8QAGo0QA2g0Qgyg0QgxIAwyuF/EC88+gydm9Cj2/sYqnDMxobdZFhF5/jXcevr8ol7ALCIyN6nH+zLS21+LiFzfx7uSTk6fgFqUwjFyP8DFvJ+urqrj//Djf4Zz6qAAWETkb/76L6BWm8Zx/KOPX1LH375zH85p93DhcL+Pr3F/iJdQNustdfyREvgtRSTx8TNhHOF7eDzG83J5PC9frKrj/e4QzgkcvVf4RCPEABqNEANoNEIMoNEIMYBGI8QAGo0QA8IkwjFyuYjj+G89qe9wOXS0dXZ93sLsHNR8RwV2pazH2VevvgjnbB7hHTP7/hrUJk7iaPfq489DrXukx+APdvbhnHarAbXmAe7jcfUcruzf2Na/r1CagHO29nEVvi/4dylP4Kh+MNJbgrf7eMfPVg9ruTR+4yIo4LdTgnIBamlPj+r7Dr80O7idPJ9ohBhAoxFiAI1GiAE0GiEG0GiEGECjEWJAmEnhZiMe7tIt5bwe1b/6ezhWT4e4+UrgqM52EYA2zPMn9QYwIiKvvIibDl3ZwW3LB4e7ULvsWJ5YGR2p49NnzsA53jqOs1dW16H2wvO4kVG1UlbH0z6OrF1NcVIZfbdVEZF01lFRL3oXm9okXmaYKuH7tBDieF9y+jmLiHQd7cJHbT2q70V4SWP9oAE1PtEIMYBGI8QAGo0QA2g0Qgyg0QgxgEYjxIDQVRkvMc73fbD7Zd6xI6Ln+LyvTKJ/Zuj4quVJ3IBn8+EXUNu+ewtqa+0m1D470OPz2gncSKdxsAO1f/v3N6FWBHsRiIg8e0VvzjNdwFH8lx6O/segwl1EZIhXJ6TV0d9m6DTw2wwLWdwIaHCI9ykIJ07izzx3FWpr4LTTHl6ievUp3GCKTzRCDKDRCDGARiPEABqNEANoNEIMoNEIMQBnlSKSOJJ/h+SY9HV/oEgClieiLm6Usvn+O1Bb+eW/Qi3Tx/Hzxs4K1PY7epX78twinHPr1gOoHbTwcbz5Fj63QeNAHV+aX4BzPnuwAbX9Id5LNpXBTXHyYAVo0KnDOX4OV9qfnMb7HjQGeNkl6eDreOXyZXW8/MgVOCc9iZdr+EQjxAAajRADaDRCDKDRCDGARiPEAGfq+FWTQLPPExEv0qtXdz79GM5p3L0NtYk8Trdy1RmoDfv45M7N6zuWdidwz5DoP/8LauUaLhyulHGPjP6xnuoVPFwB/MQZfM6f7+FC37VDfVdPEZEnH9OTu2evTsM53fXrUEv1cbJYc9x0SQ8n07Nzes8Z37EraT/C9w6faIQYQKMRYgCNRogBNBohBtBohBhAoxFigDved7X4+C1E9V+FeKjvwtne24Jz0oJ37sxO4R4TRwM8b5jCbakvPKe3Sc/OnYZzXnf0J7l9/SbUpiq4TXdKBup4IYNvg4uncbzf6OD26XEGt/f+87/6oTr+0jMX4Zx7H/wEam//yz9CbdDChconZvC12m/rBdgxbqEigeOc+UQjxAAajRADaDRCDKDRCDGARiPEABqNEAPc8f7vAF5Wj9Vr5/WKeRGRvfY21I6OcCX4Tox3nTz38itQW7rylDoepPDl/8s//QOofVTTd1sVEWlt491Aj/f0HUsHY7xWE41HUDt7dgpqv//t70Lt+997CSj4f3/qwvNQu/J6A2q7W7iXS+0MXl45jDvqeNfR+v1oC2f/fKIRYgCNRogBNBohBtBohBhAoxFiAI1GiAFekoAtM0XEIYnnau9tCGpKncR6pbqISFTXK7NFRHrNNtSSdAFq5fk5qImn/595CW6p7ce4Yc7xNq6aX731LtS+vKO/EXD9+j04J13Bu6Oee/oq1CZAcxsRkedf0OP9TB43Fjps4F09B228O2q7vwe1gzZuCb69q1+To0O8NLT+EH8en2iEGECjEWIAjUaIATQaIQbQaIQYQKMRYsDvfPU+/KfwcbOcoDYPtQzetPHrB8T+IiJJgN8UKM3i6PzxKv66bFZfMnj/fbwXQXkWV7i/8oM/gVrgOLdMWm+KkwK7t4qITE9WoTaolKAWHeL7wOvjvQOmJ8+q44njbYaNdf3tCBE+0QgxgUYjxAAajRADaDRCDKDRCDHgK6eOroJj8tslTgKoeQFO4Lyc3uOj4+OEszaLW4KfnMHt08Vxf8SxrsWOHvTO7vSOAvcIh4SSCnJQ293Ve42McFAps1O4sJxPNEIMoNEIMYBGI8QAGo0QA2g0Qgyg0QgxwBnv/3/pC0J+kyBMYdHDu06WpvVC2Vf/8I/hnJe+873/83H95nHge8cPvub7yvF5c46i6FIJt1YfD/UFhYka7huztoZ7r/CJRogBNBohBtBohBhAoxFiAI1GiAE0GiEG/A/pEUJQdiMO4gAAAABJRU5ErkJggg==\" y=\"-7.041719\"/>\r\n   </g>\r\n   <g id=\"matplotlib.axis_1\">\r\n    <g id=\"xtick_1\">\r\n     <g id=\"line2d_1\">\r\n      <defs>\r\n       <path d=\"M 0 0 \r\nL 0 3.5 \r\n\" id=\"mf2d6ac4fca\" style=\"stroke:#000000;stroke-width:0.8;\"/>\r\n      </defs>\r\n      <g>\r\n       <use style=\"stroke:#000000;stroke-width:0.8;\" x=\"30.3225\" xlink:href=\"#mf2d6ac4fca\" y=\"225.041719\"/>\r\n      </g>\r\n     </g>\r\n     <g id=\"text_1\">\r\n      <!-- 0 -->\r\n      <g transform=\"translate(27.14125 239.640156)scale(0.1 -0.1)\">\r\n       <defs>\r\n        <path d=\"M 31.78125 66.40625 \r\nQ 24.171875 66.40625 20.328125 58.90625 \r\nQ 16.5 51.421875 16.5 36.375 \r\nQ 16.5 21.390625 20.328125 13.890625 \r\nQ 24.171875 6.390625 31.78125 6.390625 \r\nQ 39.453125 6.390625 43.28125 13.890625 \r\nQ 47.125 21.390625 47.125 36.375 \r\nQ 47.125 51.421875 43.28125 58.90625 \r\nQ 39.453125 66.40625 31.78125 66.40625 \r\nz\r\nM 31.78125 74.21875 \r\nQ 44.046875 74.21875 50.515625 64.515625 \r\nQ 56.984375 54.828125 56.984375 36.375 \r\nQ 56.984375 17.96875 50.515625 8.265625 \r\nQ 44.046875 -1.421875 31.78125 -1.421875 \r\nQ 19.53125 -1.421875 13.0625 8.265625 \r\nQ 6.59375 17.96875 6.59375 36.375 \r\nQ 6.59375 54.828125 13.0625 64.515625 \r\nQ 19.53125 74.21875 31.78125 74.21875 \r\nz\r\n\" id=\"DejaVuSans-48\"/>\r\n       </defs>\r\n       <use xlink:href=\"#DejaVuSans-48\"/>\r\n      </g>\r\n     </g>\r\n    </g>\r\n    <g id=\"xtick_2\">\r\n     <g id=\"line2d_2\">\r\n      <g>\r\n       <use style=\"stroke:#000000;stroke-width:0.8;\" x=\"64.2975\" xlink:href=\"#mf2d6ac4fca\" y=\"225.041719\"/>\r\n      </g>\r\n     </g>\r\n     <g id=\"text_2\">\r\n      <!-- 5 -->\r\n      <g transform=\"translate(61.11625 239.640156)scale(0.1 -0.1)\">\r\n       <defs>\r\n        <path d=\"M 10.796875 72.90625 \r\nL 49.515625 72.90625 \r\nL 49.515625 64.59375 \r\nL 19.828125 64.59375 \r\nL 19.828125 46.734375 \r\nQ 21.96875 47.46875 24.109375 47.828125 \r\nQ 26.265625 48.1875 28.421875 48.1875 \r\nQ 40.625 48.1875 47.75 41.5 \r\nQ 54.890625 34.8125 54.890625 23.390625 \r\nQ 54.890625 11.625 47.5625 5.09375 \r\nQ 40.234375 -1.421875 26.90625 -1.421875 \r\nQ 22.3125 -1.421875 17.546875 -0.640625 \r\nQ 12.796875 0.140625 7.71875 1.703125 \r\nL 7.71875 11.625 \r\nQ 12.109375 9.234375 16.796875 8.0625 \r\nQ 21.484375 6.890625 26.703125 6.890625 \r\nQ 35.15625 6.890625 40.078125 11.328125 \r\nQ 45.015625 15.765625 45.015625 23.390625 \r\nQ 45.015625 31 40.078125 35.4375 \r\nQ 35.15625 39.890625 26.703125 39.890625 \r\nQ 22.75 39.890625 18.8125 39.015625 \r\nQ 14.890625 38.140625 10.796875 36.28125 \r\nz\r\n\" id=\"DejaVuSans-53\"/>\r\n       </defs>\r\n       <use xlink:href=\"#DejaVuSans-53\"/>\r\n      </g>\r\n     </g>\r\n    </g>\r\n    <g id=\"xtick_3\">\r\n     <g id=\"line2d_3\">\r\n      <g>\r\n       <use style=\"stroke:#000000;stroke-width:0.8;\" x=\"98.2725\" xlink:href=\"#mf2d6ac4fca\" y=\"225.041719\"/>\r\n      </g>\r\n     </g>\r\n     <g id=\"text_3\">\r\n      <!-- 10 -->\r\n      <g transform=\"translate(91.91 239.640156)scale(0.1 -0.1)\">\r\n       <defs>\r\n        <path d=\"M 12.40625 8.296875 \r\nL 28.515625 8.296875 \r\nL 28.515625 63.921875 \r\nL 10.984375 60.40625 \r\nL 10.984375 69.390625 \r\nL 28.421875 72.90625 \r\nL 38.28125 72.90625 \r\nL 38.28125 8.296875 \r\nL 54.390625 8.296875 \r\nL 54.390625 0 \r\nL 12.40625 0 \r\nz\r\n\" id=\"DejaVuSans-49\"/>\r\n       </defs>\r\n       <use xlink:href=\"#DejaVuSans-49\"/>\r\n       <use x=\"63.623047\" xlink:href=\"#DejaVuSans-48\"/>\r\n      </g>\r\n     </g>\r\n    </g>\r\n    <g id=\"xtick_4\">\r\n     <g id=\"line2d_4\">\r\n      <g>\r\n       <use style=\"stroke:#000000;stroke-width:0.8;\" x=\"132.2475\" xlink:href=\"#mf2d6ac4fca\" y=\"225.041719\"/>\r\n      </g>\r\n     </g>\r\n     <g id=\"text_4\">\r\n      <!-- 15 -->\r\n      <g transform=\"translate(125.885 239.640156)scale(0.1 -0.1)\">\r\n       <use xlink:href=\"#DejaVuSans-49\"/>\r\n       <use x=\"63.623047\" xlink:href=\"#DejaVuSans-53\"/>\r\n      </g>\r\n     </g>\r\n    </g>\r\n    <g id=\"xtick_5\">\r\n     <g id=\"line2d_5\">\r\n      <g>\r\n       <use style=\"stroke:#000000;stroke-width:0.8;\" x=\"166.2225\" xlink:href=\"#mf2d6ac4fca\" y=\"225.041719\"/>\r\n      </g>\r\n     </g>\r\n     <g id=\"text_5\">\r\n      <!-- 20 -->\r\n      <g transform=\"translate(159.86 239.640156)scale(0.1 -0.1)\">\r\n       <defs>\r\n        <path d=\"M 19.1875 8.296875 \r\nL 53.609375 8.296875 \r\nL 53.609375 0 \r\nL 7.328125 0 \r\nL 7.328125 8.296875 \r\nQ 12.9375 14.109375 22.625 23.890625 \r\nQ 32.328125 33.6875 34.8125 36.53125 \r\nQ 39.546875 41.84375 41.421875 45.53125 \r\nQ 43.3125 49.21875 43.3125 52.78125 \r\nQ 43.3125 58.59375 39.234375 62.25 \r\nQ 35.15625 65.921875 28.609375 65.921875 \r\nQ 23.96875 65.921875 18.8125 64.3125 \r\nQ 13.671875 62.703125 7.8125 59.421875 \r\nL 7.8125 69.390625 \r\nQ 13.765625 71.78125 18.9375 73 \r\nQ 24.125 74.21875 28.421875 74.21875 \r\nQ 39.75 74.21875 46.484375 68.546875 \r\nQ 53.21875 62.890625 53.21875 53.421875 \r\nQ 53.21875 48.921875 51.53125 44.890625 \r\nQ 49.859375 40.875 45.40625 35.40625 \r\nQ 44.1875 33.984375 37.640625 27.21875 \r\nQ 31.109375 20.453125 19.1875 8.296875 \r\nz\r\n\" id=\"DejaVuSans-50\"/>\r\n       </defs>\r\n       <use xlink:href=\"#DejaVuSans-50\"/>\r\n       <use x=\"63.623047\" xlink:href=\"#DejaVuSans-48\"/>\r\n      </g>\r\n     </g>\r\n    </g>\r\n    <g id=\"xtick_6\">\r\n     <g id=\"line2d_6\">\r\n      <g>\r\n       <use style=\"stroke:#000000;stroke-width:0.8;\" x=\"200.1975\" xlink:href=\"#mf2d6ac4fca\" y=\"225.041719\"/>\r\n      </g>\r\n     </g>\r\n     <g id=\"text_6\">\r\n      <!-- 25 -->\r\n      <g transform=\"translate(193.835 239.640156)scale(0.1 -0.1)\">\r\n       <use xlink:href=\"#DejaVuSans-50\"/>\r\n       <use x=\"63.623047\" xlink:href=\"#DejaVuSans-53\"/>\r\n      </g>\r\n     </g>\r\n    </g>\r\n    <g id=\"xtick_7\">\r\n     <g id=\"line2d_7\">\r\n      <g>\r\n       <use style=\"stroke:#000000;stroke-width:0.8;\" x=\"234.1725\" xlink:href=\"#mf2d6ac4fca\" y=\"225.041719\"/>\r\n      </g>\r\n     </g>\r\n     <g id=\"text_7\">\r\n      <!-- 30 -->\r\n      <g transform=\"translate(227.81 239.640156)scale(0.1 -0.1)\">\r\n       <defs>\r\n        <path d=\"M 40.578125 39.3125 \r\nQ 47.65625 37.796875 51.625 33 \r\nQ 55.609375 28.21875 55.609375 21.1875 \r\nQ 55.609375 10.40625 48.1875 4.484375 \r\nQ 40.765625 -1.421875 27.09375 -1.421875 \r\nQ 22.515625 -1.421875 17.65625 -0.515625 \r\nQ 12.796875 0.390625 7.625 2.203125 \r\nL 7.625 11.71875 \r\nQ 11.71875 9.328125 16.59375 8.109375 \r\nQ 21.484375 6.890625 26.8125 6.890625 \r\nQ 36.078125 6.890625 40.9375 10.546875 \r\nQ 45.796875 14.203125 45.796875 21.1875 \r\nQ 45.796875 27.640625 41.28125 31.265625 \r\nQ 36.765625 34.90625 28.71875 34.90625 \r\nL 20.21875 34.90625 \r\nL 20.21875 43.015625 \r\nL 29.109375 43.015625 \r\nQ 36.375 43.015625 40.234375 45.921875 \r\nQ 44.09375 48.828125 44.09375 54.296875 \r\nQ 44.09375 59.90625 40.109375 62.90625 \r\nQ 36.140625 65.921875 28.71875 65.921875 \r\nQ 24.65625 65.921875 20.015625 65.03125 \r\nQ 15.375 64.15625 9.8125 62.3125 \r\nL 9.8125 71.09375 \r\nQ 15.4375 72.65625 20.34375 73.4375 \r\nQ 25.25 74.21875 29.59375 74.21875 \r\nQ 40.828125 74.21875 47.359375 69.109375 \r\nQ 53.90625 64.015625 53.90625 55.328125 \r\nQ 53.90625 49.265625 50.4375 45.09375 \r\nQ 46.96875 40.921875 40.578125 39.3125 \r\nz\r\n\" id=\"DejaVuSans-51\"/>\r\n       </defs>\r\n       <use xlink:href=\"#DejaVuSans-51\"/>\r\n       <use x=\"63.623047\" xlink:href=\"#DejaVuSans-48\"/>\r\n      </g>\r\n     </g>\r\n    </g>\r\n   </g>\r\n   <g id=\"matplotlib.axis_2\">\r\n    <g id=\"ytick_1\">\r\n     <g id=\"line2d_8\">\r\n      <defs>\r\n       <path d=\"M 0 0 \r\nL -3.5 0 \r\n\" id=\"me3bc6643c4\" style=\"stroke:#000000;stroke-width:0.8;\"/>\r\n      </defs>\r\n      <g>\r\n       <use style=\"stroke:#000000;stroke-width:0.8;\" x=\"26.925\" xlink:href=\"#me3bc6643c4\" y=\"10.999219\"/>\r\n      </g>\r\n     </g>\r\n     <g id=\"text_8\">\r\n      <!-- 0 -->\r\n      <g transform=\"translate(13.5625 14.798437)scale(0.1 -0.1)\">\r\n       <use xlink:href=\"#DejaVuSans-48\"/>\r\n      </g>\r\n     </g>\r\n    </g>\r\n    <g id=\"ytick_2\">\r\n     <g id=\"line2d_9\">\r\n      <g>\r\n       <use style=\"stroke:#000000;stroke-width:0.8;\" x=\"26.925\" xlink:href=\"#me3bc6643c4\" y=\"44.974219\"/>\r\n      </g>\r\n     </g>\r\n     <g id=\"text_9\">\r\n      <!-- 5 -->\r\n      <g transform=\"translate(13.5625 48.773437)scale(0.1 -0.1)\">\r\n       <use xlink:href=\"#DejaVuSans-53\"/>\r\n      </g>\r\n     </g>\r\n    </g>\r\n    <g id=\"ytick_3\">\r\n     <g id=\"line2d_10\">\r\n      <g>\r\n       <use style=\"stroke:#000000;stroke-width:0.8;\" x=\"26.925\" xlink:href=\"#me3bc6643c4\" y=\"78.949219\"/>\r\n      </g>\r\n     </g>\r\n     <g id=\"text_10\">\r\n      <!-- 10 -->\r\n      <g transform=\"translate(7.2 82.748437)scale(0.1 -0.1)\">\r\n       <use xlink:href=\"#DejaVuSans-49\"/>\r\n       <use x=\"63.623047\" xlink:href=\"#DejaVuSans-48\"/>\r\n      </g>\r\n     </g>\r\n    </g>\r\n    <g id=\"ytick_4\">\r\n     <g id=\"line2d_11\">\r\n      <g>\r\n       <use style=\"stroke:#000000;stroke-width:0.8;\" x=\"26.925\" xlink:href=\"#me3bc6643c4\" y=\"112.924219\"/>\r\n      </g>\r\n     </g>\r\n     <g id=\"text_11\">\r\n      <!-- 15 -->\r\n      <g transform=\"translate(7.2 116.723437)scale(0.1 -0.1)\">\r\n       <use xlink:href=\"#DejaVuSans-49\"/>\r\n       <use x=\"63.623047\" xlink:href=\"#DejaVuSans-53\"/>\r\n      </g>\r\n     </g>\r\n    </g>\r\n    <g id=\"ytick_5\">\r\n     <g id=\"line2d_12\">\r\n      <g>\r\n       <use style=\"stroke:#000000;stroke-width:0.8;\" x=\"26.925\" xlink:href=\"#me3bc6643c4\" y=\"146.899219\"/>\r\n      </g>\r\n     </g>\r\n     <g id=\"text_12\">\r\n      <!-- 20 -->\r\n      <g transform=\"translate(7.2 150.698437)scale(0.1 -0.1)\">\r\n       <use xlink:href=\"#DejaVuSans-50\"/>\r\n       <use x=\"63.623047\" xlink:href=\"#DejaVuSans-48\"/>\r\n      </g>\r\n     </g>\r\n    </g>\r\n    <g id=\"ytick_6\">\r\n     <g id=\"line2d_13\">\r\n      <g>\r\n       <use style=\"stroke:#000000;stroke-width:0.8;\" x=\"26.925\" xlink:href=\"#me3bc6643c4\" y=\"180.874219\"/>\r\n      </g>\r\n     </g>\r\n     <g id=\"text_13\">\r\n      <!-- 25 -->\r\n      <g transform=\"translate(7.2 184.673437)scale(0.1 -0.1)\">\r\n       <use xlink:href=\"#DejaVuSans-50\"/>\r\n       <use x=\"63.623047\" xlink:href=\"#DejaVuSans-53\"/>\r\n      </g>\r\n     </g>\r\n    </g>\r\n    <g id=\"ytick_7\">\r\n     <g id=\"line2d_14\">\r\n      <g>\r\n       <use style=\"stroke:#000000;stroke-width:0.8;\" x=\"26.925\" xlink:href=\"#me3bc6643c4\" y=\"214.849219\"/>\r\n      </g>\r\n     </g>\r\n     <g id=\"text_14\">\r\n      <!-- 30 -->\r\n      <g transform=\"translate(7.2 218.648437)scale(0.1 -0.1)\">\r\n       <use xlink:href=\"#DejaVuSans-51\"/>\r\n       <use x=\"63.623047\" xlink:href=\"#DejaVuSans-48\"/>\r\n      </g>\r\n     </g>\r\n    </g>\r\n   </g>\r\n   <g id=\"patch_3\">\r\n    <path d=\"M 26.925 225.041719 \r\nL 26.925 7.601719 \r\n\" style=\"fill:none;stroke:#000000;stroke-linecap:square;stroke-linejoin:miter;stroke-width:0.8;\"/>\r\n   </g>\r\n   <g id=\"patch_4\">\r\n    <path d=\"M 244.365 225.041719 \r\nL 244.365 7.601719 \r\n\" style=\"fill:none;stroke:#000000;stroke-linecap:square;stroke-linejoin:miter;stroke-width:0.8;\"/>\r\n   </g>\r\n   <g id=\"patch_5\">\r\n    <path d=\"M 26.925 225.041719 \r\nL 244.365 225.041719 \r\n\" style=\"fill:none;stroke:#000000;stroke-linecap:square;stroke-linejoin:miter;stroke-width:0.8;\"/>\r\n   </g>\r\n   <g id=\"patch_6\">\r\n    <path d=\"M 26.925 7.601719 \r\nL 244.365 7.601719 \r\n\" style=\"fill:none;stroke:#000000;stroke-linecap:square;stroke-linejoin:miter;stroke-width:0.8;\"/>\r\n   </g>\r\n  </g>\r\n </g>\r\n <defs>\r\n  <clipPath id=\"pd44dad30b8\">\r\n   <rect height=\"217.44\" width=\"217.44\" x=\"26.925\" y=\"7.601719\"/>\r\n  </clipPath>\r\n </defs>\r\n</svg>\r\n",
      "image/png": "[encoded data removed]"
     },
     "metadata": {
      "needs_background": "light"
     }
    }
   ],
   "source": [
    "#Veo la primera imagen del dataset\n",
    "plt.imshow(X_train[0],cmap=\"gray\")"
   ]
  },
  {
   "cell_type": "code",
   "execution_count": 9,
   "metadata": {},
   "outputs": [],
   "source": [
    "#Normalizo las imagenes\n",
    "X_train = X_train / 255\n",
    "X_test = X_test / 255"
   ]
  },
  {
   "cell_type": "code",
   "execution_count": 15,
   "metadata": {},
   "outputs": [],
   "source": [
    "#Creo el modelo\n",
    "model_5 = Sequential()\n",
    "\n",
    "model_5.add(Conv2D(32, kernel_size=(3, 3), activation='relu', input_shape=input_shape))\n",
    "model_5.add(MaxPooling2D(pool_size=(2, 2)))\n",
    "model_5.add(Conv2D(64, kernel_size=(3, 3), activation='relu'))\n",
    "model_5.add(MaxPooling2D(pool_size=(2, 2)))\n",
    "model_5.add(Conv2D(32, kernel_size=(3, 3), activation='relu'))\n",
    "model_5.add(MaxPooling2D(pool_size=(2, 2)))\n",
    "model_5.add(Flatten())"
   ]
  },
  {
   "cell_type": "code",
   "execution_count": 17,
   "metadata": {},
   "outputs": [],
   "source": [
    "#CompilO el modelo\n",
    "model_5.compile(optimizer='adam', loss='mae', metrics=['accuracy'])"
   ]
  },
  {
   "cell_type": "code",
   "execution_count": 18,
   "metadata": {},
   "outputs": [
    {
     "output_type": "stream",
     "name": "stdout",
     "text": [
      "Model: \"sequential_4\"\n_________________________________________________________________\nLayer (type)                 Output Shape              Param #   \n=================================================================\nconv2d_11 (Conv2D)           (None, 30, 30, 32)        896       \n_________________________________________________________________\nmax_pooling2d_10 (MaxPooling (None, 15, 15, 32)        0         \n_________________________________________________________________\nconv2d_12 (Conv2D)           (None, 13, 13, 64)        18496     \n_________________________________________________________________\nmax_pooling2d_11 (MaxPooling (None, 6, 6, 64)          0         \n_________________________________________________________________\nconv2d_13 (Conv2D)           (None, 4, 4, 32)          18464     \n_________________________________________________________________\nmax_pooling2d_12 (MaxPooling (None, 2, 2, 32)          0         \n_________________________________________________________________\nflatten_3 (Flatten)          (None, 128)               0         \n=================================================================\nTotal params: 37,856\nTrainable params: 37,856\nNon-trainable params: 0\n_________________________________________________________________\n"
     ]
    }
   ],
   "source": [
    "#Veo el resumen del modelo\n",
    "model_5.summary()"
   ]
  },
  {
   "cell_type": "code",
   "execution_count": 19,
   "metadata": {},
   "outputs": [
    {
     "output_type": "stream",
     "name": "stdout",
     "text": [
      "Epoch 1/10\n",
      "800/800 [==============================] - 67s 80ms/step - loss: 26.8318 - accuracy: 0.0080 - val_loss: 25.9954 - val_accuracy: 0.0069\n",
      "Epoch 2/10\n",
      "800/800 [==============================] - 64s 80ms/step - loss: 25.5273 - accuracy: 0.0087 - val_loss: 25.9249 - val_accuracy: 0.0079\n",
      "Epoch 3/10\n",
      "800/800 [==============================] - 67s 83ms/step - loss: 25.4845 - accuracy: 0.0083 - val_loss: 25.8520 - val_accuracy: 0.0080\n",
      "Epoch 4/10\n",
      "800/800 [==============================] - 68s 86ms/step - loss: 25.3993 - accuracy: 0.0087 - val_loss: 25.6878 - val_accuracy: 0.0100\n",
      "Epoch 5/10\n",
      "800/800 [==============================] - 66s 82ms/step - loss: 25.3178 - accuracy: 0.0073 - val_loss: 25.7091 - val_accuracy: 0.0084\n",
      "Epoch 6/10\n",
      "800/800 [==============================] - 65s 81ms/step - loss: 25.2475 - accuracy: 0.0082 - val_loss: 26.2796 - val_accuracy: 0.0088\n",
      "Epoch 7/10\n",
      "800/800 [==============================] - 65s 81ms/step - loss: 25.1990 - accuracy: 0.0077 - val_loss: 25.4524 - val_accuracy: 0.0078\n",
      "Epoch 8/10\n",
      "800/800 [==============================] - 64s 80ms/step - loss: 25.1354 - accuracy: 0.0077 - val_loss: 25.4075 - val_accuracy: 0.0087\n",
      "Epoch 9/10\n",
      "800/800 [==============================] - 62s 78ms/step - loss: 25.1227 - accuracy: 0.0074 - val_loss: 25.6436 - val_accuracy: 0.0076\n",
      "Epoch 10/10\n",
      "800/800 [==============================] - 61s 76ms/step - loss: 25.0947 - accuracy: 0.0073 - val_loss: 25.3311 - val_accuracy: 0.0089\n"
     ]
    }
   ],
   "source": [
    "#Entreno el modelo\n",
    "history = model_5.fit(X_train, y_train,\n",
    "            batch_size=50,\n",
    "            epochs=10, #poner 100 luego\n",
    "            verbose=1,\n",
    "            validation_split=0.2)"
   ]
  },
  {
   "cell_type": "code",
   "execution_count": 20,
   "metadata": {},
   "outputs": [
    {
     "output_type": "stream",
     "name": "stdout",
     "text": [
      "313/313 [==============================] - 8s 22ms/step - loss: 25.0497 - accuracy: 0.0081\n"
     ]
    },
    {
     "output_type": "execute_result",
     "data": {
      "text/plain": [
       "[25.049732208251953, 0.008100000210106373]"
      ]
     },
     "metadata": {},
     "execution_count": 20
    }
   ],
   "source": [
    "#Generalizo las metricas del modelo\n",
    "score = model_5.evaluate(X_test, y_test)\n",
    "score"
   ]
  },
  {
   "cell_type": "code",
   "execution_count": null,
   "metadata": {},
   "outputs": [],
   "source": [
    "#Sin GPU de colab\n",
    "early_stopping_no_gpu = EarlyStopping(monitor='val_loss', mode='min', verbose=1, patience=10) \n",
    "%time hist = model_5.fit(X_train, y_train, validation_split=0.2, batch_size=64, epochs=10, callbacks=early_stop) #pasarle mas epoca"
   ]
  },
  {
   "cell_type": "code",
   "execution_count": null,
   "metadata": {},
   "outputs": [],
   "source": [
    "#Sin GPU de Colab\n",
    "%time score_no_gpu = model_5.evaluate(X_test,y_test)\n",
    "score_no_gpu"
   ]
  },
  {
   "cell_type": "code",
   "execution_count": null,
   "metadata": {},
   "outputs": [],
   "source": [
    "#Con GPU de colab\n",
    "early_stopping_con_gpu = EarlyStopping(monitor='val_loss', mode='min', verbose=1, patience=10) \n",
    "%time hist_con_gpu = model_5.fit(X_train, y_train, validation_split=0.2, batch_size=64, epochs=20, callbacks=early_stop)"
   ]
  },
  {
   "cell_type": "code",
   "execution_count": null,
   "metadata": {},
   "outputs": [],
   "source": [
    "# Con GPU de Colab\n",
    "%time score_con_gpu = model_5.evaluate(X_test,y_test)\n",
    "score_con_gpu"
   ]
  },
  {
   "cell_type": "code",
   "execution_count": null,
   "metadata": {},
   "outputs": [],
   "source": [
    "#Como podemos comprobar al utilizar la GPU el procesamiento del modelo es claramente mucho mas superior a trabajr sin la GPU, esto es debido a que estamos utilizando la tarjeta grafica a su maxima expresion"
   ]
  },
  {
   "cell_type": "code",
   "execution_count": null,
   "metadata": {},
   "outputs": [],
   "source": [
    "#Veo como convergen\n",
    "%matplotlib inline\n",
    "plt.figure\n",
    "plt.plot(hist.history['loss'], label='Pérdida entrenamiento')\n",
    "plt.plot(hist.history['val_loss'], 'r', label='Pérdida test')\n",
    "plt.legend()"
   ]
  }
 ]
}