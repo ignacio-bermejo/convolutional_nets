{
 "metadata": {
  "language_info": {
   "codemirror_mode": {
    "name": "ipython",
    "version": 3
   },
   "file_extension": ".py",
   "mimetype": "text/x-python",
   "name": "python",
   "nbconvert_exporter": "python",
   "pygments_lexer": "ipython3",
   "version": "3.8.5"
  },
  "orig_nbformat": 4,
  "kernelspec": {
   "name": "python3",
   "display_name": "Python 3.8.5 64-bit ('base': conda)"
  },
  "interpreter": {
   "hash": "642ed197f51b4a6f70d3007f365abeb4e11cf6d289847988e1cf6d37c781e715"
  }
 },
 "nbformat": 4,
 "nbformat_minor": 2,
 "cells": [
  {
   "cell_type": "code",
   "execution_count": 1,
   "metadata": {},
   "outputs": [],
   "source": [
    "#EJERCICIO 2\n",
    "#Escribe un trozo de código que sirva para definir un modelo en Keras que tenga al menos\n",
    "#dos capas LSTM, una capa GRU y una densa. Muestra el resumen del modelo por pantalla.\n",
    "#Tenemos 20000 datos de series temporales de un activo financiero, cada dato tiene una\n",
    "#longitud de 11. Las salidas son las predicciones para el instante temporal siguiente."
   ]
  },
  {
   "cell_type": "code",
   "execution_count": 2,
   "metadata": {},
   "outputs": [],
   "source": [
    "import tensorflow.keras as keras\n",
    "from tensorflow.keras.models import Sequential, load_model\n",
    "from tensorflow.keras.layers import Dense, Activation,LSTM, GRU, Conv2D,MaxPooling2D, Flatten, Dropout,Convolution1D, Dense, MaxPooling1D\n",
    "from tensorflow.keras.optimizers import RMSprop, Adam, SGD\n",
    "from tensorflow.keras.layers import BatchNormalization\n",
    "\n",
    "from tensorflow.keras.models import Sequential\n",
    "from tensorflow.keras.layers import Dense\n",
    "import numpy as np\n",
    "import pandas as pd"
   ]
  },
  {
   "cell_type": "code",
   "execution_count": 3,
   "metadata": {},
   "outputs": [],
   "source": [
    "#Le paso datos al modelo para ver si realmente funciona a la hora de crearlo y compilarlo\n",
    "#Lo comento porque asi lo usaba yo para trabajar desde vscode, supongo que lo abres desde google colab \n",
    "#por eso el otro lo deho descomentado, todas los datos estan en la carpeta de Kaggle\n",
    "\n",
    "#dd_googl = pd.read_csv(\"C:\\\\Users\\\\ignac\\\\OneDrive\\\\Escritorio\\\\BME\\\\Master\\\\CLASES\\\\Modulo 4\\\\Redes Convolucionales\\\\Diccionario\\\\Leer_datos\\\\googl.us.txt\", delimiter=\",\")\n",
    "dd_googl = pd.read_csv(\"googl.us.txt\", delimiter=\",\")\n",
    "googl_op = dd_googl['Open']"
   ]
  },
  {
   "cell_type": "code",
   "execution_count": 5,
   "metadata": {},
   "outputs": [],
   "source": [
    "#Defino el modelo usando las capas requeridas\n",
    "model_2 = Sequential()\n",
    "\n",
    "model_2.add(LSTM(20, input_shape=(11,1), return_sequences=True))\n",
    "model_2.add(LSTM(20, dropout=0.2, return_sequences=True))\n",
    "\n",
    "model_2.add(GRU(64, input_shape=(11,1)))\n",
    "\n",
    "model_2.add(Dense(1))"
   ]
  },
  {
   "cell_type": "code",
   "execution_count": 6,
   "metadata": {},
   "outputs": [],
   "source": [
    "#Compilo el modelo\n",
    "model_2.compile(optimizer='adam',loss='mae')"
   ]
  },
  {
   "cell_type": "code",
   "execution_count": 7,
   "metadata": {},
   "outputs": [
    {
     "output_type": "stream",
     "name": "stdout",
     "text": [
      "Model: \"sequential\"\n_________________________________________________________________\nLayer (type)                 Output Shape              Param #   \n=================================================================\nlstm (LSTM)                  (None, 11, 20)            1760      \n_________________________________________________________________\nlstm_1 (LSTM)                (None, 11, 20)            3280      \n_________________________________________________________________\ngru (GRU)                    (None, 64)                16512     \n_________________________________________________________________\ndense (Dense)                (None, 1)                 65        \n=================================================================\nTotal params: 21,617\nTrainable params: 21,617\nNon-trainable params: 0\n_________________________________________________________________\n"
     ]
    }
   ],
   "source": [
    "model_2.summary()"
   ]
  }
 ]
}