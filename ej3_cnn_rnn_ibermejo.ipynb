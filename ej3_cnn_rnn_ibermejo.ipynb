{
 "metadata": {
  "language_info": {
   "codemirror_mode": {
    "name": "ipython",
    "version": 3
   },
   "file_extension": ".py",
   "mimetype": "text/x-python",
   "name": "python",
   "nbconvert_exporter": "python",
   "pygments_lexer": "ipython3",
   "version": "3.8.5"
  },
  "orig_nbformat": 4,
  "kernelspec": {
   "name": "python3",
   "display_name": "Python 3.8.5 64-bit ('base': conda)"
  },
  "interpreter": {
   "hash": "642ed197f51b4a6f70d3007f365abeb4e11cf6d289847988e1cf6d37c781e715"
  }
 },
 "nbformat": 4,
 "nbformat_minor": 2,
 "cells": [
  {
   "cell_type": "code",
   "execution_count": 1,
   "metadata": {},
   "outputs": [],
   "source": [
    "#Ejercicio 3\n",
    "#Escribe un trozo de código que sirva para definir un modelo en Keras que combine al\n",
    "#menos una capa LSTM, tres convolucionales y una densa. Muestra el resumen del modelo por\n",
    "#pantalla.\n",
    "#Tenemos 10000 datos de series temporales de 5 activos financieros de longitud 4, i.e.\n",
    "#(10000,4,5). Las salidas son las predicciones para el instante temporal siguiente, i.e. (10000,1)."
   ]
  },
  {
   "cell_type": "code",
   "execution_count": 8,
   "metadata": {},
   "outputs": [],
   "source": [
    "from tensorflow.keras.models import Sequential\n",
    "from tensorflow.keras.layers import Dense, Conv1D, Flatten, LSTM, Dropout\n",
    "import numpy as np\n",
    "import pandas as pd"
   ]
  },
  {
   "cell_type": "code",
   "execution_count": 3,
   "metadata": {},
   "outputs": [
    {
     "output_type": "stream",
     "name": "stdout",
     "text": [
      "            Date      Open     High       Low     Close    Volume  OpenInt\n0     2004-08-19    50.000    52.03    47.980    50.170  44703800        0\n1     2004-08-20    50.505    54.54    50.250    54.155  22857200        0\n2     2004-08-23    55.375    56.74    54.525    54.700  18274400        0\n3     2004-08-24    55.620    55.80    51.785    52.435  15262600        0\n4     2004-08-25    52.480    54.00    51.940    53.000   9197800        0\n...          ...       ...      ...       ...       ...       ...      ...\n3328  2017-11-06  1049.100  1052.59  1042.000  1042.680    913954        0\n3329  2017-11-07  1049.650  1053.41  1043.000  1052.390   1303832        0\n3330  2017-11-08  1050.050  1062.69  1047.050  1058.290   1214469        0\n3331  2017-11-09  1048.000  1050.88  1035.850  1047.720   1793994        0\n3332  2017-11-10  1043.870  1046.63  1041.220  1044.150    970498        0\n\n[3333 rows x 7 columns]\n"
     ]
    }
   ],
   "source": [
    "#AQUI TENGO QUE PONER LOS DATOS DE LOS 5 ACTIVOS DE LONGITUD 4\n",
    "#hist_google = pd.read_csv(\"C:\\\\Users\\\\ignac\\\\OneDrive\\\\Escritorio\\\\BME\\\\Master\\\\CLASES\\\\Modulo 4\\\\Redes Convolucionales\\\\Diccionario\\\\Leer_datos\\\\googl.us.txt\", delimiter=\",\")\n",
    "hist_google = pd.read_csv(\"googl.us.txt\", delimiter=\",\")\n",
    "print(hist_google)"
   ]
  },
  {
   "cell_type": "code",
   "execution_count": 4,
   "metadata": {},
   "outputs": [
    {
     "output_type": "execute_result",
     "data": {
      "text/plain": [
       "(2947, 64)"
      ]
     },
     "metadata": {},
     "execution_count": 4
    }
   ],
   "source": [
    "#PRUEBA PARA VER SI PUEDO TRABAJAR CON 10.000 DATOS\n",
    "from api_bme import APIBMEHandler\n",
    "APIBME = APIBMEHandler('IBEX', 'ignaciobermejo_algo1')\n",
    "maestro_df = APIBME.get_ticker_master()\n",
    "data_close, data_high, data_low, data_open, data_vol = APIBME.get_data()\n",
    "benchmark = APIBME.get_close_data_ticker('benchmark')\n",
    "\n",
    "data_close.shape"
   ]
  },
  {
   "cell_type": "code",
   "execution_count": 5,
   "metadata": {},
   "outputs": [
    {
     "output_type": "execute_result",
     "data": {
      "text/plain": [
       "(3333, 7)"
      ]
     },
     "metadata": {},
     "execution_count": 5
    }
   ],
   "source": [
    "#Divido los datos para para hacer una prueba y ver si funciona con 5 requisitos distintos   que luego habra que cambiar por los activos necesarios\n",
    "google_op=hist_google['Open']\n",
    "google_cl=hist_google['Close']\n",
    "google_vol=hist_google['Volume']\n",
    "google_high=hist_google['High']\n",
    "google_low=hist_google['Low']\n",
    "\n",
    "hist_google.shape"
   ]
  },
  {
   "cell_type": "code",
   "execution_count": 6,
   "metadata": {},
   "outputs": [
    {
     "output_type": "execute_result",
     "data": {
      "text/plain": [
       "(200, 10, 1)"
      ]
     },
     "metadata": {},
     "execution_count": 6
    }
   ],
   "source": [
    "#Realizo la particion del modelo en train y test\n",
    "#forma 10000,4,5\n",
    "op=google_op.values[np.arange(0,2000,1)]\n",
    "cl=google_cl.values[np.arange(0,2000,1)]\n",
    "vol=google_vol.values[np.arange(0,2000,1)]\n",
    "high=google_high.values[np.arange(0,2000,1)]\n",
    "low=google_low.values[np.arange(0,2000,1)]\n",
    "\n",
    "op_train=np.reshape(op,(200,10,1))\n",
    "cl_train = cl[np.arange(9,2000,10)]\n",
    "\n",
    "op_train.shape"
   ]
  },
  {
   "cell_type": "code",
   "execution_count": 9,
   "metadata": {},
   "outputs": [],
   "source": [
    "#Defino el modelo\n",
    "model_3 = Sequential()\n",
    "\n",
    "model_3.add(LSTM(20, input_shape=(4,5), return_sequences=True))\n",
    "model_3.add(Dropout(0.2))\n",
    "model_3.add(Conv1D(15, kernel_size=3, padding='same'))\n",
    "model_3.add(Dropout(0.2))\n",
    "model_3.add(Conv1D(10, kernel_size=2))\n",
    "model_3.add(Dropout(0.2))\n",
    "model_3.add(Conv1D(5,kernel_size=1))\n",
    "model_3.add(Dropout(0.2))\n",
    "model_3.add(Dense(1))"
   ]
  },
  {
   "cell_type": "code",
   "execution_count": 10,
   "metadata": {},
   "outputs": [],
   "source": [
    "#Compilo el modelo\n",
    "model_3.compile(optimizer='adam',loss='mae')"
   ]
  },
  {
   "cell_type": "code",
   "execution_count": 11,
   "metadata": {},
   "outputs": [
    {
     "output_type": "stream",
     "name": "stdout",
     "text": [
      "Model: \"sequential_1\"\n_________________________________________________________________\nLayer (type)                 Output Shape              Param #   \n=================================================================\nlstm_1 (LSTM)                (None, 4, 20)             2080      \n_________________________________________________________________\ndropout (Dropout)            (None, 4, 20)             0         \n_________________________________________________________________\nconv1d (Conv1D)              (None, 4, 15)             915       \n_________________________________________________________________\ndropout_1 (Dropout)          (None, 4, 15)             0         \n_________________________________________________________________\nconv1d_1 (Conv1D)            (None, 3, 10)             310       \n_________________________________________________________________\ndropout_2 (Dropout)          (None, 3, 10)             0         \n_________________________________________________________________\nconv1d_2 (Conv1D)            (None, 3, 5)              55        \n_________________________________________________________________\ndropout_3 (Dropout)          (None, 3, 5)              0         \n_________________________________________________________________\ndense (Dense)                (None, 3, 1)              6         \n=================================================================\nTotal params: 3,366\nTrainable params: 3,366\nNon-trainable params: 0\n_________________________________________________________________\n"
     ]
    }
   ],
   "source": [
    "model_3.summary()"
   ]
  },
  {
   "cell_type": "code",
   "execution_count": null,
   "metadata": {},
   "outputs": [],
   "source": []
  }
 ]
}